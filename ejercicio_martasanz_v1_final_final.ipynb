{
 "cells": [
  {
   "cell_type": "markdown",
   "id": "2884de15",
   "metadata": {},
   "source": [
    "#Realización de primer ejercicio de evaluación. Marta Sanz Muñoz"
   ]
  },
  {
   "cell_type": "markdown",
   "id": "8c545dd6",
   "metadata": {},
   "source": [
    "###Creamos tres diccionarios diferentes. "
   ]
  },
  {
   "cell_type": "code",
   "execution_count": 1,
   "id": "0c3094a4",
   "metadata": {},
   "outputs": [],
   "source": [
    "inventario = []\n",
    "clientes = {}\n",
    "ventas_totales = 0.0"
   ]
  },
  {
   "cell_type": "markdown",
   "id": "efde7370",
   "metadata": {},
   "source": [
    "###Agregamos los primeros productos de mi tienda"
   ]
  },
  {
   "cell_type": "code",
   "execution_count": 5,
   "id": "4bcb0117",
   "metadata": {},
   "outputs": [],
   "source": [
    "#Agregar nuevo  producto si no existe\n",
    "def agregar_producto (nombre, precio, cantidad):\n",
    "    if  nombre not in inventario: #verifica si es la primera prenda\n",
    "        inventario.append ({'nombre' : nombre, 'precio':precio , 'cantidad':cantidad})  #guarda la información\n",
    "        print (f\"Producto {nombre} agregado con éxito\")\n",
    "    else: \n",
    "        print(f\"El producto con nombre '{nombre}' ya existe\")"
   ]
  },
  {
   "cell_type": "code",
   "execution_count": 6,
   "id": "0b902cd0",
   "metadata": {},
   "outputs": [
    {
     "name": "stdout",
     "output_type": "stream",
     "text": [
      "Producto Camisa agregado con éxito\n",
      "Producto Pantalón agregado con éxito\n",
      "Producto Zapatos agregado con éxito\n"
     ]
    }
   ],
   "source": [
    "agregar_producto ('Camisa', 20, 50)\n",
    "agregar_producto ('Pantalón', 30, 30)\n",
    "agregar_producto (\"Zapatos\", 50,40)"
   ]
  },
  {
   "cell_type": "markdown",
   "id": "3440a117",
   "metadata": {},
   "source": [
    "###Función para observar el inventario existente"
   ]
  },
  {
   "cell_type": "code",
   "execution_count": 7,
   "id": "db302eb6",
   "metadata": {},
   "outputs": [],
   "source": [
    "def ver_inventario(): \n",
    "    if not inventario:\n",
    "        print (f\"No existe inventario de la tienda\")\n",
    "    else:\n",
    "        for producto in inventario:\n",
    "            nombre = producto['nombre']\n",
    "            precio = producto ['precio']\n",
    "            cantidad = producto ['cantidad']\n",
    "            print (f\"Nombre: {nombre}, Precio : {precio}€, Cantidad: {cantidad}\")"
   ]
  },
  {
   "cell_type": "markdown",
   "id": "1f3a5bfa",
   "metadata": {},
   "source": [
    "####Ejemplo:"
   ]
  },
  {
   "cell_type": "code",
   "execution_count": 8,
   "id": "125c2a4b",
   "metadata": {},
   "outputs": [
    {
     "name": "stdout",
     "output_type": "stream",
     "text": [
      "Nombre: Camisa, Precio : 20€, Cantidad: 50\n",
      "Nombre: Pantalón, Precio : 30€, Cantidad: 30\n",
      "Nombre: Zapatos, Precio : 50€, Cantidad: 40\n",
      "Nombre: Camisa, Precio : 20€, Cantidad: 50\n",
      "Nombre: Pantalón, Precio : 30€, Cantidad: 30\n",
      "Nombre: Zapatos, Precio : 50€, Cantidad: 40\n"
     ]
    }
   ],
   "source": [
    "ver_inventario()"
   ]
  },
  {
   "cell_type": "markdown",
   "id": "afbfd3a0",
   "metadata": {},
   "source": [
    "###Función para la búsqueda de productos "
   ]
  },
  {
   "cell_type": "code",
   "execution_count": 9,
   "id": "0b273b73",
   "metadata": {},
   "outputs": [],
   "source": [
    "def buscar_producto (nombre):\n",
    "    for producto in inventario:\n",
    "        if producto [\"nombre\"] == nombre:\n",
    "            nombre = producto['nombre']\n",
    "            precio = producto ['precio']\n",
    "            cantidad = producto ['cantidad']\n",
    "            print (f\"Nombre: {nombre}, Precio : {precio}€, Cantidad: {cantidad}\")\n",
    "            break\n",
    "    else:\n",
    "     print(f\"Producto no encontrado\")"
   ]
  },
  {
   "cell_type": "markdown",
   "id": "a28e7a43",
   "metadata": {},
   "source": [
    "####Ejemplo:"
   ]
  },
  {
   "cell_type": "code",
   "execution_count": 10,
   "id": "4a095681",
   "metadata": {},
   "outputs": [
    {
     "name": "stdout",
     "output_type": "stream",
     "text": [
      "Nombre: Camisa, Precio : 20€, Cantidad: 50\n"
     ]
    }
   ],
   "source": [
    "buscar_producto ('Camisa')"
   ]
  },
  {
   "cell_type": "markdown",
   "id": "5e361989",
   "metadata": {},
   "source": [
    "###Función para actualizar el stock del inventario"
   ]
  },
  {
   "cell_type": "code",
   "execution_count": null,
   "id": "618973e2",
   "metadata": {},
   "outputs": [],
   "source": [
    "def actualizar_stock(nombre, cantidad):\n",
    "    for producto in inventario:\n",
    "        if producto[\"nombre\"] == nombre:\n",
    "            producto['cantidad'] += cantidad  #actualizar cantidad sumandola\n",
    "            nombre = producto['nombre']\n",
    "            precio = producto['precio']\n",
    "            cantidad = producto['cantidad'] #para hacer el bucle para recorrer el inventario\n",
    "            print(f\"Nombre: {nombre}, Precio: {precio}€, Cantidad: {cantidad}\")\n",
    "            break\n",
    "    else:\n",
    "        print(f'El producto \"{nombre}\" no se encuentra en el inventario.')"
   ]
  },
  {
   "cell_type": "markdown",
   "id": "1b765712",
   "metadata": {},
   "source": [
    "####Ejemplo:"
   ]
  },
  {
   "cell_type": "code",
   "execution_count": 11,
   "id": "03b81a03",
   "metadata": {},
   "outputs": [
    {
     "name": "stdout",
     "output_type": "stream",
     "text": [
      "Nombre: Camisa, Precio: $20, Cantidad: 100\n",
      "El producto \"Manoletinas\" no se encuentra en el inventario.\n"
     ]
    }
   ],
   "source": [
    "actualizar_stock('Camisa', 50)\n",
    "actualizar_stock(\"Manoletinas\", 10)"
   ]
  },
  {
   "cell_type": "markdown",
   "id": "7e6e7ea0",
   "metadata": {},
   "source": [
    "###Función que elimina productos"
   ]
  },
  {
   "cell_type": "code",
   "execution_count": null,
   "id": "c458448a",
   "metadata": {},
   "outputs": [],
   "source": [
    "def eliminar_producto(nombre):\n",
    "    for producto in inventario:\n",
    "        if producto[\"nombre\"] == nombre:\n",
    "            inventario.remove(producto)  # elimina el diccionario completo del inventario del producto a partir del nombre que yo le doy \n",
    "            print(f'Producto \"{nombre}\" eliminado')\n",
    "            break\n",
    "    else:\n",
    "        print(f'Producto \"{nombre}\" no encontrado')"
   ]
  },
  {
   "cell_type": "markdown",
   "id": "7a58ac69",
   "metadata": {},
   "source": [
    "####Ejemplo:"
   ]
  },
  {
   "cell_type": "code",
   "execution_count": null,
   "id": "baa6409a",
   "metadata": {},
   "outputs": [
    {
     "name": "stdout",
     "output_type": "stream",
     "text": [
      "Producto \"Camisa\" eliminado\n"
     ]
    }
   ],
   "source": [
    "eliminar_producto('Camisa')"
   ]
  },
  {
   "cell_type": "markdown",
   "id": "45e9fd17",
   "metadata": {},
   "source": [
    "###Función para calcular el valor total del inventario"
   ]
  },
  {
   "cell_type": "code",
   "execution_count": 11,
   "id": "c663a3d8",
   "metadata": {},
   "outputs": [],
   "source": [
    "def calcular_valor_inventario ():\n",
    "    valor_total= int(0) #creo una nueva variable int \n",
    "    for producto in inventario:\n",
    "        valor_total += producto['cantidad']* producto['precio']\n",
    "    print(f\"El valor total del inventario es {valor_total} euros\")"
   ]
  },
  {
   "cell_type": "markdown",
   "id": "43c9ec4c",
   "metadata": {},
   "source": [
    "####Ejemplo:"
   ]
  },
  {
   "cell_type": "code",
   "execution_count": 12,
   "id": "ad0e7f04",
   "metadata": {},
   "outputs": [
    {
     "name": "stdout",
     "output_type": "stream",
     "text": [
      "El valor total del inventario es 2900 euros\n"
     ]
    }
   ],
   "source": [
    "calcular_valor_inventario()"
   ]
  },
  {
   "cell_type": "markdown",
   "id": "0f87ef15",
   "metadata": {},
   "source": [
    "###Función para realizar una compra"
   ]
  },
  {
   "cell_type": "code",
   "execution_count": null,
   "id": "002e3e77",
   "metadata": {},
   "outputs": [],
   "source": [
    "#ahora hacemos la funcion de realizar_compra\n",
    "def realizar_compra(inventario):\n",
    "    carrito = {}\n",
    "    while True:\n",
    "        compra = input(\"¿Qué producto le gustaría comprar? (En el caso de que quiera volver atrás escriba 'salir')\")\n",
    "        if compra == \"salir\": #si quiere salir del carrito\n",
    "            break\n",
    "        cantidad_comprar = int(input(f\"¿Cuántos/as unidades'{compra}'  quiere comprar?\"))\n",
    "        #tenemos que ver si esta en el inventario el producto que quiere\n",
    "        for producto in inventario:\n",
    "            if producto['nombre'] == compra: #si esta elproducto puede seguir la compra\n",
    "                if producto['cantidad'] >= cantidad_comprar:#si es mayor o igual a la cantidad de stock si puede comprar\n",
    "                    carrito[compra]={'nombre':compra, 'cantidad':cantidad_comprar, 'precio': producto['precio']*cantidad_comprar} #lo metemos en el carrito\n",
    "                    print(f\"Ha sido añadido con satisfacción {cantidad_comprar} unidades de {compra} .\")\n",
    "                    producto['cantidad'] -= cantidad_comprar\n",
    "                else:\n",
    "                    print(f\"No existe stock suficiente en estos momentos. Tan solo quedan {producto['cantidad']} unidades de {compra} disponibles\")\n",
    "                break\n",
    "        else:\n",
    "            print(f'No existe el producto \"{compra}\" que quiere comprar')"
   ]
  },
  {
   "cell_type": "markdown",
   "id": "a71d7369",
   "metadata": {},
   "source": [
    "####Ejemplo:"
   ]
  },
  {
   "cell_type": "code",
   "execution_count": null,
   "id": "739ff5e4",
   "metadata": {},
   "outputs": [],
   "source": [
    "realizar_compra(inventario)"
   ]
  },
  {
   "cell_type": "code",
   "execution_count": 57,
   "id": "ee3e4ecf",
   "metadata": {},
   "outputs": [
    {
     "name": "stdout",
     "output_type": "stream",
     "text": [
      "Nombre: Camisa, Precio : 20€, Cantidad: 50\n",
      "Nombre: Pantalón, Precio : 30€, Cantidad: 30\n",
      "Nombre: Zapatos, Precio : 50€, Cantidad: 35\n"
     ]
    }
   ],
   "source": [
    "ver_inventario()"
   ]
  },
  {
   "cell_type": "markdown",
   "id": "9b5fb37a",
   "metadata": {},
   "source": [
    "###Función que procesa un pago"
   ]
  },
  {
   "cell_type": "code",
   "execution_count": 77,
   "id": "76233766",
   "metadata": {},
   "outputs": [],
   "source": [
    "def procesar_pago():\n",
    "    #calculo_cambio = 0\n",
    "    try:\n",
    "        debe_pagar = float(input(\"¿Cuánta es la cantidad que debe pagar?\"))\n",
    "        total_paga_cliente= float(input(\"¿Cuánto es el total de dinero que va a entregar para la compra?\"))\n",
    "    except:\n",
    "        print(f\"Cantidad inválida. Operación errónea. Debe de ser un número.\")\n",
    "        return\n",
    "    if total_paga_cliente < debe_pagar:\n",
    "        print(\"No puede ejecutarse la compra por falta de importe para efectuarla\")\n",
    "    else:\n",
    "        calculo_cambio = total_paga_cliente - debe_pagar\n",
    "        print(f\"Pago realizafo con éxito. Le serán devueltos {round(calculo_cambio)}€\")"
   ]
  },
  {
   "cell_type": "markdown",
   "id": "5859d111",
   "metadata": {},
   "source": [
    "####Ejemplo:"
   ]
  },
  {
   "cell_type": "code",
   "execution_count": 78,
   "id": "d6309282",
   "metadata": {},
   "outputs": [
    {
     "name": "stdout",
     "output_type": "stream",
     "text": [
      "Pago realizafo con éxito. Le serán devueltos 10€\n"
     ]
    }
   ],
   "source": [
    "procesar_pago()"
   ]
  }
 ],
 "metadata": {
  "kernelspec": {
   "display_name": "base",
   "language": "python",
   "name": "python3"
  },
  "language_info": {
   "codemirror_mode": {
    "name": "ipython",
    "version": 3
   },
   "file_extension": ".py",
   "mimetype": "text/x-python",
   "name": "python",
   "nbconvert_exporter": "python",
   "pygments_lexer": "ipython3",
   "version": "3.12.7"
  }
 },
 "nbformat": 4,
 "nbformat_minor": 5
}
