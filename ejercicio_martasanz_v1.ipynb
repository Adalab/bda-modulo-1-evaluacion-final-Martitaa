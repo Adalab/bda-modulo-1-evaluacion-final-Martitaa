{
 "cells": [
  {
   "cell_type": "markdown",
   "id": "2884de15",
   "metadata": {},
   "source": [
    "#Realización de primer ejercicio de evaluación"
   ]
  },
  {
   "cell_type": "markdown",
   "id": "8c545dd6",
   "metadata": {},
   "source": [
    "##Creamos tres diccionarios diferentes. "
   ]
  },
  {
   "cell_type": "code",
   "execution_count": 154,
   "id": "0c3094a4",
   "metadata": {},
   "outputs": [],
   "source": [
    "inventario = []\n",
    "clientes = {}\n",
    "ventas_totales = 0.0"
   ]
  },
  {
   "cell_type": "code",
   "execution_count": 155,
   "id": "4bcb0117",
   "metadata": {},
   "outputs": [],
   "source": [
    "#Agregar nuevo  producto si no existe\n",
    "def agregar_producto (nombre, precio, cantidad):\n",
    "    if  nombre not in inventario: #verifica si es la primera prenda\n",
    "        inventario.append ({'nombre' : nombre, 'precio':precio , 'cantidad':cantidad})  #guarda la información\n",
    "        print (f\"producto {nombre} agragado con éxito\")\n",
    "    else: \n",
    "        print(f\"el prodcuto con nombre {nombre} ya existe\")"
   ]
  },
  {
   "cell_type": "code",
   "execution_count": 156,
   "id": "0b902cd0",
   "metadata": {},
   "outputs": [
    {
     "name": "stdout",
     "output_type": "stream",
     "text": [
      "producto Camisa agragado con éxito\n",
      "producto Pantalón agragado con éxito\n",
      "producto Zapatos agragado con éxito\n"
     ]
    }
   ],
   "source": [
    "agregar_producto ('Camisa', 20, 50)\n",
    "agregar_producto ('Pantalón', 30, 30)\n",
    "agregar_producto (\"Zapatos\", 50,40)"
   ]
  },
  {
   "cell_type": "code",
   "execution_count": 157,
   "id": "db302eb6",
   "metadata": {},
   "outputs": [],
   "source": [
    "def ver_inventario(): \n",
    "    if not inventario:\n",
    "        print (f\"No existe inventariode la tienda\")\n",
    "    else:\n",
    "        for producto in inventario:\n",
    "            nombre = producto['nombre']\n",
    "            precio = producto ['precio']\n",
    "            cantidad = producto ['cantidad']\n",
    "            print (f\"Nombre: {nombre}, Precio : ${precio}, Cantidad: {cantidad}\")"
   ]
  },
  {
   "cell_type": "code",
   "execution_count": 158,
   "id": "125c2a4b",
   "metadata": {},
   "outputs": [
    {
     "name": "stdout",
     "output_type": "stream",
     "text": [
      "Nombre: Camisa, Precio : $20, Cantidad: 50\n",
      "Nombre: Pantalón, Precio : $30, Cantidad: 30\n",
      "Nombre: Zapatos, Precio : $50, Cantidad: 40\n"
     ]
    }
   ],
   "source": [
    "ver_inventario()"
   ]
  },
  {
   "cell_type": "code",
   "execution_count": 122,
   "id": "0b273b73",
   "metadata": {},
   "outputs": [],
   "source": [
    "def buscar_producto (nombre):\n",
    "    for producto in inventario:\n",
    "        if producto [\"nombre\"] == nombre:\n",
    "            nombre = producto['nombre']\n",
    "            precio = producto ['precio']\n",
    "            cantidad = producto ['cantidad']\n",
    "            print (f\"Nombre: {nombre}, Precio : ${precio}, Cantidad: {cantidad}\")\n",
    "            break\n",
    "    else:\n",
    "     print(f\"Producto no encontrado\")"
   ]
  },
  {
   "cell_type": "code",
   "execution_count": 123,
   "id": "4a095681",
   "metadata": {},
   "outputs": [
    {
     "name": "stdout",
     "output_type": "stream",
     "text": [
      "Nombre: Camisa, Precio : $20, Cantidad: 50\n"
     ]
    }
   ],
   "source": [
    "buscar_producto ('Camisa')"
   ]
  },
  {
   "cell_type": "code",
   "execution_count": 124,
   "id": "618973e2",
   "metadata": {},
   "outputs": [],
   "source": [
    "def actualizar_stock(nombre, cantidad):\n",
    "    for producto in inventario:\n",
    "        if producto[\"nombre\"] == nombre:\n",
    "            producto['cantidad'] += cantidad  #actualizar cantidad sumandola\n",
    "            nombre = producto['nombre']\n",
    "            precio = producto['precio']\n",
    "            cantidad = producto['cantidad'] #para hacer el bucle para recorrer el inventario\n",
    "            print(f\"Nombre: {nombre}, Precio: ${precio}, Cantidad: {cantidad}\")\n",
    "            break\n",
    "    else:\n",
    "        print(f'El producto \"{nombre}\" no se encuentra en el inventario.')"
   ]
  },
  {
   "cell_type": "code",
   "execution_count": 125,
   "id": "03b81a03",
   "metadata": {},
   "outputs": [
    {
     "name": "stdout",
     "output_type": "stream",
     "text": [
      "Nombre: Camisa, Precio: $20, Cantidad: 100\n",
      "El producto \"Manoletinas\" no se encuentra en el inventario.\n"
     ]
    }
   ],
   "source": [
    "actualizar_stock('Camisa', 50)\n",
    "actualizar_stock(\"Manoletinas\", 10)"
   ]
  },
  {
   "cell_type": "code",
   "execution_count": 126,
   "id": "7e5754d0",
   "metadata": {},
   "outputs": [],
   "source": [
    "def actualizar_stock_v2(nombre, cantidad): #lo mismo pero cambiando \n",
    "    for producto in inventario:\n",
    "        if producto[\"nombre\"] == nombre:\n",
    "            producto['cantidad'] = producto['cantidad'] + cantidad  #actualizar cantidad sumandola\n",
    "            nombre = producto['nombre']\n",
    "            precio = producto['precio']\n",
    "            cantidad = producto['cantidad'] #para hacer el bucle para recorrer el inventario\n",
    "            print(f\"Nombre: {nombre}, Precio: ${precio}, Cantidad: {cantidad}\")\n",
    "            break\n",
    "        else:\n",
    "            print(f'El producto \"{nombre}\" no se encuentra en el inventario.')"
   ]
  },
  {
   "cell_type": "code",
   "execution_count": 127,
   "id": "4575e0fe",
   "metadata": {},
   "outputs": [
    {
     "name": "stdout",
     "output_type": "stream",
     "text": [
      "Nombre: Camisa, Precio: $20, Cantidad: 110\n"
     ]
    }
   ],
   "source": [
    "actualizar_stock_v2 ('Camisa', 10)"
   ]
  },
  {
   "cell_type": "code",
   "execution_count": null,
   "id": "0a228542",
   "metadata": {},
   "outputs": [],
   "source": [
    "def eliminar_producto(nombre): #me dice que borré el nombre pero yo quierro borrarle la fila\n",
    "    for producto in inventario:\n",
    "        if producto[\"nombre\"] == nombre:\n",
    "            del producto ['nombre'] #elimina el porducto del diccionario\n",
    "            print(f\"Producto eliminado\")\n",
    "            break\n",
    "    else:\n",
    "        print(f'Producto \"{nombre}\" no encontrado')"
   ]
  },
  {
   "cell_type": "code",
   "execution_count": null,
   "id": "072a5aac",
   "metadata": {},
   "outputs": [
    {
     "ename": "KeyError",
     "evalue": "'nombre'",
     "output_type": "error",
     "traceback": [
      "\u001b[1;31m---------------------------------------------------------------------------\u001b[0m",
      "\u001b[1;31mKeyError\u001b[0m                                  Traceback (most recent call last)",
      "Cell \u001b[1;32mIn[153], line 1\u001b[0m\n\u001b[1;32m----> 1\u001b[0m eliminar_producto(\u001b[38;5;124m'\u001b[39m\u001b[38;5;124mCamisa\u001b[39m\u001b[38;5;124m'\u001b[39m)\n",
      "Cell \u001b[1;32mIn[149], line 3\u001b[0m, in \u001b[0;36meliminar_producto\u001b[1;34m(nombre)\u001b[0m\n\u001b[0;32m      1\u001b[0m \u001b[38;5;28;01mdef\u001b[39;00m \u001b[38;5;21meliminar_producto\u001b[39m(nombre):\n\u001b[0;32m      2\u001b[0m     \u001b[38;5;28;01mfor\u001b[39;00m producto \u001b[38;5;129;01min\u001b[39;00m inventario:\n\u001b[1;32m----> 3\u001b[0m         \u001b[38;5;28;01mif\u001b[39;00m producto[\u001b[38;5;124m\"\u001b[39m\u001b[38;5;124mnombre\u001b[39m\u001b[38;5;124m\"\u001b[39m] \u001b[38;5;241m==\u001b[39m nombre:\n\u001b[0;32m      4\u001b[0m             \u001b[38;5;28;01mdel\u001b[39;00m producto [\u001b[38;5;124m'\u001b[39m\u001b[38;5;124mnombre\u001b[39m\u001b[38;5;124m'\u001b[39m] \u001b[38;5;66;03m#elimina el porducto del diccionario\u001b[39;00m\n\u001b[0;32m      5\u001b[0m             \u001b[38;5;28mprint\u001b[39m(\u001b[38;5;124mf\u001b[39m\u001b[38;5;124m\"\u001b[39m\u001b[38;5;124mProducto eliminado\u001b[39m\u001b[38;5;124m\"\u001b[39m)\n",
      "\u001b[1;31mKeyError\u001b[0m: 'nombre'"
     ]
    }
   ],
   "source": [
    "eliminar_producto('Camisa') #me sale bien pero no borra lo que yo quiero "
   ]
  },
  {
   "cell_type": "code",
   "execution_count": 159,
   "id": "386f7318",
   "metadata": {},
   "outputs": [
    {
     "name": "stdout",
     "output_type": "stream",
     "text": [
      "Nombre: Camisa, Precio : $20, Cantidad: 50\n",
      "Nombre: Pantalón, Precio : $30, Cantidad: 30\n",
      "Nombre: Zapatos, Precio : $50, Cantidad: 40\n"
     ]
    }
   ],
   "source": [
    "ver_inventario()"
   ]
  },
  {
   "cell_type": "code",
   "execution_count": 163,
   "id": "e97d08db",
   "metadata": {},
   "outputs": [],
   "source": [
    "def eliminar_producto_v2(nombre): #como hace la profe en el repaso\n",
    "    if producto in inventario:\n",
    "        del producto ['nombre'] #elimina el porducto del diccionario\n",
    "        print(f\"Producto eliminado\")\n",
    "    else:\n",
    "        print(f'Producto \"{nombre}\" no encontrado')"
   ]
  },
  {
   "cell_type": "code",
   "execution_count": 164,
   "id": "7181c626",
   "metadata": {},
   "outputs": [
    {
     "ename": "NameError",
     "evalue": "name 'producto' is not defined",
     "output_type": "error",
     "traceback": [
      "\u001b[1;31m---------------------------------------------------------------------------\u001b[0m",
      "\u001b[1;31mNameError\u001b[0m                                 Traceback (most recent call last)",
      "Cell \u001b[1;32mIn[164], line 1\u001b[0m\n\u001b[1;32m----> 1\u001b[0m eliminar_producto_v2(\u001b[38;5;124m'\u001b[39m\u001b[38;5;124mCamisa\u001b[39m\u001b[38;5;124m'\u001b[39m)\n",
      "Cell \u001b[1;32mIn[163], line 2\u001b[0m, in \u001b[0;36meliminar_producto_v2\u001b[1;34m(nombre)\u001b[0m\n\u001b[0;32m      1\u001b[0m \u001b[38;5;28;01mdef\u001b[39;00m \u001b[38;5;21meliminar_producto_v2\u001b[39m(nombre): \u001b[38;5;66;03m#como hace la profe en el repaso\u001b[39;00m\n\u001b[1;32m----> 2\u001b[0m     \u001b[38;5;28;01mif\u001b[39;00m producto \u001b[38;5;129;01min\u001b[39;00m inventario:\n\u001b[0;32m      3\u001b[0m         \u001b[38;5;28;01mdel\u001b[39;00m producto [\u001b[38;5;124m'\u001b[39m\u001b[38;5;124mnombre\u001b[39m\u001b[38;5;124m'\u001b[39m] \u001b[38;5;66;03m#elimina el porducto del diccionario\u001b[39;00m\n\u001b[0;32m      4\u001b[0m         \u001b[38;5;28mprint\u001b[39m(\u001b[38;5;124mf\u001b[39m\u001b[38;5;124m\"\u001b[39m\u001b[38;5;124mProducto eliminado\u001b[39m\u001b[38;5;124m\"\u001b[39m)\n",
      "\u001b[1;31mNameError\u001b[0m: name 'producto' is not defined"
     ]
    }
   ],
   "source": [
    "eliminar_producto_v2('Camisa')"
   ]
  },
  {
   "cell_type": "markdown",
   "id": "7e6e7ea0",
   "metadata": {},
   "source": [
    "###Me gustaria saber la diferencia entre el elimnar_producto_v2 y eliminar_producto_v3"
   ]
  },
  {
   "cell_type": "code",
   "execution_count": 165,
   "id": "c458448a",
   "metadata": {},
   "outputs": [],
   "source": [
    "def eliminar_producto_v3(nombre):\n",
    "    for producto in inventario:\n",
    "        if producto[\"nombre\"] == nombre:\n",
    "            inventario.remove(producto)  # elimina el diccionario completo del inventario\n",
    "            print(f'Producto \"{nombre}\" eliminado')\n",
    "            break\n",
    "    else:\n",
    "        print(f'Producto \"{nombre}\" no encontrado')"
   ]
  },
  {
   "cell_type": "code",
   "execution_count": 166,
   "id": "baa6409a",
   "metadata": {},
   "outputs": [
    {
     "name": "stdout",
     "output_type": "stream",
     "text": [
      "Producto \"Camisa\" eliminado\n"
     ]
    }
   ],
   "source": [
    "eliminar_producto_v3('Camisa')"
   ]
  },
  {
   "cell_type": "code",
   "execution_count": 168,
   "id": "e5110e80",
   "metadata": {},
   "outputs": [
    {
     "name": "stdout",
     "output_type": "stream",
     "text": [
      "Nombre: Pantalón, Precio : $30, Cantidad: 30\n",
      "Nombre: Zapatos, Precio : $50, Cantidad: 40\n"
     ]
    }
   ],
   "source": [
    "ver_inventario()"
   ]
  },
  {
   "cell_type": "code",
   "execution_count": 192,
   "id": "c663a3d8",
   "metadata": {},
   "outputs": [],
   "source": [
    "def calcular_valor_inventario ():\n",
    "    valor_total= int(0) #creo una nueva variable int \n",
    "    for producto in inventario:\n",
    "        valor_total += producto['cantidad']* producto['precio']\n",
    "    print(f\"El valor total del inventario es {valor_total} euros\")"
   ]
  },
  {
   "cell_type": "code",
   "execution_count": 194,
   "id": "ad0e7f04",
   "metadata": {},
   "outputs": [
    {
     "name": "stdout",
     "output_type": "stream",
     "text": [
      "El valor total del inventario es 2900 euros\n"
     ]
    }
   ],
   "source": [
    "calcular_valor_inventario()"
   ]
  },
  {
   "cell_type": "code",
   "execution_count": null,
   "id": "002e3e77",
   "metadata": {},
   "outputs": [],
   "source": [
    "def realizar_compra():\n",
    "    carrito = {}\n",
    "    while"
   ]
  }
 ],
 "metadata": {
  "kernelspec": {
   "display_name": "base",
   "language": "python",
   "name": "python3"
  },
  "language_info": {
   "codemirror_mode": {
    "name": "ipython",
    "version": 3
   },
   "file_extension": ".py",
   "mimetype": "text/x-python",
   "name": "python",
   "nbconvert_exporter": "python",
   "pygments_lexer": "ipython3",
   "version": "3.12.7"
  }
 },
 "nbformat": 4,
 "nbformat_minor": 5
}
