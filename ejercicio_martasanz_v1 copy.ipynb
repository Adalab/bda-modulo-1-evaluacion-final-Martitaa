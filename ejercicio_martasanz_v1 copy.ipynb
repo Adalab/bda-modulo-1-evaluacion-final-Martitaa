{
 "cells": [
  {
   "cell_type": "markdown",
   "id": "2884de15",
   "metadata": {},
   "source": [
    "#Realización de primer ejercicio de evaluación"
   ]
  },
  {
   "cell_type": "markdown",
   "id": "8c545dd6",
   "metadata": {},
   "source": [
    "##Creamos tres diccionarios diferentes. "
   ]
  },
  {
   "cell_type": "code",
   "execution_count": 38,
   "id": "0c3094a4",
   "metadata": {},
   "outputs": [],
   "source": [
    "inventario = []\n",
    "clientes = {}\n",
    "ventas_totales = 0.0"
   ]
  },
  {
   "cell_type": "code",
   "execution_count": 39,
   "id": "4bcb0117",
   "metadata": {},
   "outputs": [],
   "source": [
    "#Agregar nuevo  producto si no existe\n",
    "def agregar_producto (nombre, precio, cantidad):\n",
    "    if  nombre not in inventario: #verifica si es la primera prenda\n",
    "        inventario.append ({'nombre' : nombre, 'precio':precio , 'cantidad':cantidad})  #guarda la información\n",
    "        print (f\"producto {nombre} agragado con éxito\")\n",
    "    else: \n",
    "        print(f\"el prodcuto con nombre {nombre} ya existe\")"
   ]
  },
  {
   "cell_type": "code",
   "execution_count": 40,
   "id": "0b902cd0",
   "metadata": {},
   "outputs": [
    {
     "name": "stdout",
     "output_type": "stream",
     "text": [
      "producto Camisa agragado con éxito\n",
      "producto Pantalón agragado con éxito\n",
      "producto Zapatos agragado con éxito\n"
     ]
    }
   ],
   "source": [
    "agregar_producto ('Camisa', 20, 50)\n",
    "agregar_producto ('Pantalón', 30, 30)\n",
    "agregar_producto (\"Zapatos\", 50,40)"
   ]
  },
  {
   "cell_type": "code",
   "execution_count": 30,
   "id": "db302eb6",
   "metadata": {},
   "outputs": [],
   "source": [
    "def ver_inventario(): \n",
    "    if not inventario:\n",
    "        print (f\"No existe inventariode la tienda\")\n",
    "    else:\n",
    "        for producto in inventario:\n",
    "            nombre = producto['nombre']\n",
    "            precio = producto ['precio']\n",
    "            cantidad = producto ['cantidad']\n",
    "            print (f\"Nombre: {nombre}, Precio : {precio}€, Cantidad: {cantidad}\")"
   ]
  },
  {
   "cell_type": "code",
   "execution_count": 7,
   "id": "125c2a4b",
   "metadata": {},
   "outputs": [
    {
     "name": "stdout",
     "output_type": "stream",
     "text": [
      "Nombre: Camisa, Precio : $20, Cantidad: 50\n",
      "Nombre: Pantalón, Precio : $30, Cantidad: 30\n",
      "Nombre: Zapatos, Precio : $50, Cantidad: 40\n"
     ]
    }
   ],
   "source": [
    "ver_inventario()"
   ]
  },
  {
   "cell_type": "code",
   "execution_count": null,
   "id": "0b273b73",
   "metadata": {},
   "outputs": [],
   "source": [
    "def buscar_producto (nombre):\n",
    "    for producto in inventario:\n",
    "        if producto [\"nombre\"] == nombre:\n",
    "            nombre = producto['nombre']\n",
    "            precio = producto ['precio']\n",
    "            cantidad = producto ['cantidad']\n",
    "            print (f\"Nombre: {nombre}, Precio : {precio}€, Cantidad: {cantidad}\")\n",
    "            break\n",
    "    else:\n",
    "     print(f\"Producto no encontrado\")"
   ]
  },
  {
   "cell_type": "code",
   "execution_count": 9,
   "id": "4a095681",
   "metadata": {},
   "outputs": [
    {
     "name": "stdout",
     "output_type": "stream",
     "text": [
      "Nombre: Camisa, Precio : $20, Cantidad: 50\n"
     ]
    }
   ],
   "source": [
    "buscar_producto ('Camisa')"
   ]
  },
  {
   "cell_type": "code",
   "execution_count": null,
   "id": "618973e2",
   "metadata": {},
   "outputs": [],
   "source": [
    "def actualizar_stock(nombre, cantidad):\n",
    "    for producto in inventario:\n",
    "        if producto[\"nombre\"] == nombre:\n",
    "            producto['cantidad'] += cantidad  #actualizar cantidad sumandola\n",
    "            nombre = producto['nombre']\n",
    "            precio = producto['precio']\n",
    "            cantidad = producto['cantidad'] #para hacer el bucle para recorrer el inventario\n",
    "            print(f\"Nombre: {nombre}, Precio: {precio}€, Cantidad: {cantidad}\")\n",
    "            break\n",
    "    else:\n",
    "        print(f'El producto \"{nombre}\" no se encuentra en el inventario.')"
   ]
  },
  {
   "cell_type": "code",
   "execution_count": 11,
   "id": "03b81a03",
   "metadata": {},
   "outputs": [
    {
     "name": "stdout",
     "output_type": "stream",
     "text": [
      "Nombre: Camisa, Precio: $20, Cantidad: 100\n",
      "El producto \"Manoletinas\" no se encuentra en el inventario.\n"
     ]
    }
   ],
   "source": [
    "actualizar_stock('Camisa', 50)\n",
    "actualizar_stock(\"Manoletinas\", 10)"
   ]
  },
  {
   "cell_type": "code",
   "execution_count": 25,
   "id": "7e5754d0",
   "metadata": {},
   "outputs": [],
   "source": [
    "def actualizar_stock_v2(nombre, cantidad): #lo mismo pero cambiando \n",
    "    for producto in inventario:\n",
    "        if producto[\"nombre\"] == nombre:\n",
    "            producto['cantidad'] = producto['cantidad'] + cantidad  #actualizar cantidad sumandola\n",
    "            nombre = producto['nombre']\n",
    "            precio = producto['precio']\n",
    "            cantidad = producto['cantidad'] #para hacer el bucle para recorrer el inventario\n",
    "            print(f\"Nombre: {nombre}, Precio: {precio}€, Cantidad: {cantidad}\")\n",
    "            break\n",
    "        else:\n",
    "            print(f'El producto \"{nombre}\" no se encuentra en el inventario.')"
   ]
  },
  {
   "cell_type": "code",
   "execution_count": 26,
   "id": "4575e0fe",
   "metadata": {},
   "outputs": [
    {
     "name": "stdout",
     "output_type": "stream",
     "text": [
      "El producto \"Camisa\" no se encuentra en el inventario.\n",
      "El producto \"Camisa\" no se encuentra en el inventario.\n"
     ]
    }
   ],
   "source": [
    "actualizar_stock_v2 ('Camisa', 10)"
   ]
  },
  {
   "cell_type": "code",
   "execution_count": 55,
   "id": "0a228542",
   "metadata": {},
   "outputs": [],
   "source": [
    "def eliminar_producto(nombre): #me dice que borré el nombre pero yo quierro borrarle la fila\n",
    "    for producto in inventario:\n",
    "        if producto[\"nombre\"] == nombre:\n",
    "            del producto #elimina el porducto del diccionario\n",
    "            print(f\"Producto eliminado\")\n",
    "            break\n",
    "    else:\n",
    "        print(f'Producto \"{nombre}\" no encontrado')"
   ]
  },
  {
   "cell_type": "code",
   "execution_count": null,
   "id": "16c279b9",
   "metadata": {},
   "outputs": [],
   "source": []
  },
  {
   "cell_type": "code",
   "execution_count": null,
   "id": "aa4aed48",
   "metadata": {},
   "outputs": [
    {
     "data": {
      "text/plain": [
       "'Pantalón'"
      ]
     },
     "execution_count": 63,
     "metadata": {},
     "output_type": "execute_result"
    }
   ],
   "source": [
    "inventario[0]['nombre']"
   ]
  },
  {
   "cell_type": "code",
   "execution_count": 64,
   "id": "67490437",
   "metadata": {},
   "outputs": [],
   "source": [
    "if inventario[0]['nombre'] == 'Camisa':\n",
    "    del inventario[0]"
   ]
  },
  {
   "cell_type": "code",
   "execution_count": 65,
   "id": "08e8d250",
   "metadata": {},
   "outputs": [
    {
     "name": "stdout",
     "output_type": "stream",
     "text": [
      "Nombre: Pantalón, Precio : 30€, Cantidad: 30\n",
      "Nombre: Zapatos, Precio : 50€, Cantidad: 40\n"
     ]
    }
   ],
   "source": [
    "ver_inventario()"
   ]
  },
  {
   "cell_type": "code",
   "execution_count": 57,
   "id": "072a5aac",
   "metadata": {},
   "outputs": [
    {
     "name": "stdout",
     "output_type": "stream",
     "text": [
      "Producto eliminado\n"
     ]
    }
   ],
   "source": [
    "eliminar_producto('Camisa') #me sale bien pero no borra lo que yo quiero "
   ]
  },
  {
   "cell_type": "code",
   "execution_count": 51,
   "id": "23992868",
   "metadata": {},
   "outputs": [],
   "source": [
    "diccionario={'camisa':2, 'pantalón':3}"
   ]
  },
  {
   "cell_type": "code",
   "execution_count": 54,
   "id": "3e68733a",
   "metadata": {},
   "outputs": [
    {
     "data": {
      "text/plain": [
       "{'pantalón': 3}"
      ]
     },
     "execution_count": 54,
     "metadata": {},
     "output_type": "execute_result"
    }
   ],
   "source": [
    "diccionario"
   ]
  },
  {
   "cell_type": "code",
   "execution_count": 53,
   "id": "1252867f",
   "metadata": {},
   "outputs": [],
   "source": [
    "del diccionario['camisa']"
   ]
  },
  {
   "cell_type": "code",
   "execution_count": 58,
   "id": "a905883b",
   "metadata": {},
   "outputs": [
    {
     "data": {
      "text/plain": [
       "[{'nombre': 'Camisa', 'precio': 20, 'cantidad': 50},\n",
       " {'nombre': 'Pantalón', 'precio': 30, 'cantidad': 30},\n",
       " {'nombre': 'Zapatos', 'precio': 50, 'cantidad': 40}]"
      ]
     },
     "execution_count": 58,
     "metadata": {},
     "output_type": "execute_result"
    }
   ],
   "source": [
    "inventario"
   ]
  },
  {
   "cell_type": "code",
   "execution_count": 32,
   "id": "386f7318",
   "metadata": {},
   "outputs": [
    {
     "name": "stdout",
     "output_type": "stream",
     "text": [
      "Nombre: Camisa, Precio : 20€, Cantidad: 50\n",
      "Nombre: Pantalón, Precio : 30€, Cantidad: 30\n",
      "Nombre: Zapatos, Precio : 50€, Cantidad: 40\n"
     ]
    }
   ],
   "source": [
    "ver_inventario()"
   ]
  },
  {
   "cell_type": "code",
   "execution_count": null,
   "id": "e97d08db",
   "metadata": {},
   "outputs": [],
   "source": [
    "#def eliminar_producto_v2(nombre): #como hace la profe en el repaso\n",
    "    if producto in inventario:\n",
    "        del producto ['nombre'] #elimina el porducto del diccionario\n",
    "        print(f\"Producto eliminado\")\n",
    "    else:\n",
    "        print(f'Producto \"{nombre}\" no encontrado')"
   ]
  },
  {
   "cell_type": "code",
   "execution_count": null,
   "id": "7181c626",
   "metadata": {},
   "outputs": [
    {
     "ename": "NameError",
     "evalue": "name 'producto' is not defined",
     "output_type": "error",
     "traceback": [
      "\u001b[1;31m---------------------------------------------------------------------------\u001b[0m",
      "\u001b[1;31mNameError\u001b[0m                                 Traceback (most recent call last)",
      "Cell \u001b[1;32mIn[164], line 1\u001b[0m\n\u001b[1;32m----> 1\u001b[0m eliminar_producto_v2(\u001b[38;5;124m'\u001b[39m\u001b[38;5;124mCamisa\u001b[39m\u001b[38;5;124m'\u001b[39m)\n",
      "Cell \u001b[1;32mIn[163], line 2\u001b[0m, in \u001b[0;36meliminar_producto_v2\u001b[1;34m(nombre)\u001b[0m\n\u001b[0;32m      1\u001b[0m \u001b[38;5;28;01mdef\u001b[39;00m \u001b[38;5;21meliminar_producto_v2\u001b[39m(nombre): \u001b[38;5;66;03m#como hace la profe en el repaso\u001b[39;00m\n\u001b[1;32m----> 2\u001b[0m     \u001b[38;5;28;01mif\u001b[39;00m producto \u001b[38;5;129;01min\u001b[39;00m inventario:\n\u001b[0;32m      3\u001b[0m         \u001b[38;5;28;01mdel\u001b[39;00m producto [\u001b[38;5;124m'\u001b[39m\u001b[38;5;124mnombre\u001b[39m\u001b[38;5;124m'\u001b[39m] \u001b[38;5;66;03m#elimina el porducto del diccionario\u001b[39;00m\n\u001b[0;32m      4\u001b[0m         \u001b[38;5;28mprint\u001b[39m(\u001b[38;5;124mf\u001b[39m\u001b[38;5;124m\"\u001b[39m\u001b[38;5;124mProducto eliminado\u001b[39m\u001b[38;5;124m\"\u001b[39m)\n",
      "\u001b[1;31mNameError\u001b[0m: name 'producto' is not defined"
     ]
    }
   ],
   "source": [
    "#eliminar_producto_v2('Camisa')"
   ]
  },
  {
   "cell_type": "markdown",
   "id": "7e6e7ea0",
   "metadata": {},
   "source": [
    "###Me gustaria saber la diferencia entre el elimnar_producto_v2 y eliminar_producto_v3"
   ]
  },
  {
   "cell_type": "code",
   "execution_count": null,
   "id": "c458448a",
   "metadata": {},
   "outputs": [],
   "source": [
    "def eliminar_producto_v3(nombre):\n",
    "    for producto in inventario:\n",
    "        if producto[\"nombre\"] == nombre:\n",
    "            inventario.remove(producto)  # elimina el diccionario completo del inventario del producto a partir del nombre que yo le doy \n",
    "            print(f'Producto \"{nombre}\" eliminado')\n",
    "            break\n",
    "    else:\n",
    "        print(f'Producto \"{nombre}\" no encontrado')"
   ]
  },
  {
   "cell_type": "code",
   "execution_count": 16,
   "id": "baa6409a",
   "metadata": {},
   "outputs": [
    {
     "name": "stdout",
     "output_type": "stream",
     "text": [
      "Producto \"Camisa\" eliminado\n"
     ]
    }
   ],
   "source": [
    "eliminar_producto_v3('Camisa')"
   ]
  },
  {
   "cell_type": "code",
   "execution_count": 17,
   "id": "e5110e80",
   "metadata": {},
   "outputs": [
    {
     "name": "stdout",
     "output_type": "stream",
     "text": [
      "Nombre: Pantalón, Precio : $30, Cantidad: 30\n",
      "Nombre: Zapatos, Precio : $50, Cantidad: 40\n"
     ]
    }
   ],
   "source": [
    "ver_inventario()"
   ]
  },
  {
   "cell_type": "code",
   "execution_count": 18,
   "id": "c663a3d8",
   "metadata": {},
   "outputs": [],
   "source": [
    "def calcular_valor_inventario ():\n",
    "    valor_total= int(0) #creo una nueva variable int \n",
    "    for producto in inventario:\n",
    "        valor_total += producto['cantidad']* producto['precio']\n",
    "    print(f\"El valor total del inventario es {valor_total} euros\")"
   ]
  },
  {
   "cell_type": "code",
   "execution_count": 19,
   "id": "ad0e7f04",
   "metadata": {},
   "outputs": [
    {
     "name": "stdout",
     "output_type": "stream",
     "text": [
      "El valor total del inventario es 2900 euros\n"
     ]
    }
   ],
   "source": [
    "calcular_valor_inventario()"
   ]
  },
  {
   "cell_type": "code",
   "execution_count": null,
   "id": "8680c3dc",
   "metadata": {},
   "outputs": [
    {
     "data": {
      "text/plain": [
       "list"
      ]
     },
     "execution_count": 271,
     "metadata": {},
     "output_type": "execute_result"
    }
   ],
   "source": [
    "type(inventario)"
   ]
  },
  {
   "cell_type": "code",
   "execution_count": 20,
   "id": "701e220e",
   "metadata": {},
   "outputs": [
    {
     "name": "stdout",
     "output_type": "stream",
     "text": [
      "Nombre: Pantalón, Precio : $30, Cantidad: 30\n",
      "Nombre: Zapatos, Precio : $50, Cantidad: 40\n"
     ]
    }
   ],
   "source": [
    "#primero vamos a mostrar el inventario al cliente\n",
    "ver_inventario()"
   ]
  },
  {
   "cell_type": "code",
   "execution_count": null,
   "id": "002e3e77",
   "metadata": {},
   "outputs": [],
   "source": [
    "#ahora hacemos la funcion de realizar_compra\n",
    "def realizar_compra():\n",
    "    carrito = {}\n",
    "    while True:\n",
    "        compra = input(\"¿Qué producto le gustaría comprar? (En el caso de que quiera volver atrás escriba 'salir')\")\n",
    "        if compra == \"salir\": #si quiere salir del carrito\n",
    "            break\n",
    "        cantidad_comprar = int(input(f\"¿Cuántos '{compra}' unidades quiere comprar?\"))\n",
    "        #tenemos que ver si esta en el inventario el producto que quiere\n",
    "        for producto in inventario:\n",
    "            if producto['nombre'] == compra: #si esta elproducto puede seguir la compra\n",
    "                if producto['cantidad'] >= cantidad_comprar:#si es mayor o igual a la cantidad de stock si puede comprar\n",
    "                    carrito.append({'nombre':compra, 'cantidad':cantidad_comprar, 'precio': producto['precio']*cantidad_comprar}) #lo metemos en el carrito\n",
    "                    print(f\"Ha sido añadido con satisfacción del producto {compra} {cantidad_comprar} unidades.\")\n",
    "                    #actualizar con el -=\n",
    "                if producto ['cantidad'] < cantidad_comprar:\n",
    "                    print(f\"No existe stock suficiente en estos momentos. Tan solo quedan {producto['cantidad']} unidades de {compra} disponibles\")\n",
    "            else:\n",
    "                print(f'No existe el producto \"{compra}\" que quiere comprar')\n",
    "                break\n",
    "        else: \n",
    "            print(f'El producto \"{compra}\" que usted quiere comprar no se encuentra en el inventario de la tienda en estos momentos')"
   ]
  },
  {
   "cell_type": "markdown",
   "id": "9b5fb37a",
   "metadata": {},
   "source": [
    "#ejercicio 8"
   ]
  },
  {
   "cell_type": "code",
   "execution_count": null,
   "id": "76233766",
   "metadata": {},
   "outputs": [
    {
     "ename": "SyntaxError",
     "evalue": "expected ':' (929750856.py, line 1)",
     "output_type": "error",
     "traceback": [
      "\u001b[1;36m  Cell \u001b[1;32mIn[24], line 1\u001b[1;36m\u001b[0m\n\u001b[1;33m    def procesar_pago()\u001b[0m\n\u001b[1;37m                       ^\u001b[0m\n\u001b[1;31mSyntaxError\u001b[0m\u001b[1;31m:\u001b[0m expected ':'\n"
     ]
    }
   ],
   "source": [
    "def procesar_pago()\n",
    "    try:\n",
    "    debe_pagar = float(input(\"¿Cuánta es la cantidad qué debe ingresar?\"))\n",
    "    total_paga_cliente= float(input(\"¿Cuánto es el total de dinero que va a entregar para la compra?\"))\n",
    "    calculo_cambio = total_paga_cliente - debe_pagar\n",
    "    print(f\"Le serán devueltos {calculo_cambio}€\")\n",
    "    except\n",
    "    if calculo_cambio < debe_pagar:\n",
    "        print\n",
    "\n"
   ]
  }
 ],
 "metadata": {
  "kernelspec": {
   "display_name": "base",
   "language": "python",
   "name": "python3"
  },
  "language_info": {
   "codemirror_mode": {
    "name": "ipython",
    "version": 3
   },
   "file_extension": ".py",
   "mimetype": "text/x-python",
   "name": "python",
   "nbconvert_exporter": "python",
   "pygments_lexer": "ipython3",
   "version": "3.12.7"
  }
 },
 "nbformat": 4,
 "nbformat_minor": 5
}
